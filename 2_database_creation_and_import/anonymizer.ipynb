{
 "cells": [
  {
   "cell_type": "markdown",
   "id": "f31d5eb8-db04-427f-a479-b8adcfbb7bdf",
   "metadata": {},
   "source": [
    "# Photography Business Analysis: PII Anonymization\n",
    "## Author: Oliverius, Miranda"
   ]
  },
  {
   "cell_type": "markdown",
   "id": "2787c81b-b8a4-4cb4-83be-67cd1ef6e519",
   "metadata": {},
   "source": [
    "## Table of Contents"
   ]
  },
  {
   "cell_type": "markdown",
   "id": "5cf62c59-86d8-4bf2-a8a7-a2b2dfee0513",
   "metadata": {},
   "source": [
    "* [Overview](#overview)\n",
    "* [Data Source](#source)\n",
    "* [Preliminaries](#preliminaries)\n",
    "* [Client ID Mapping](#mapping)\n",
    "* [Data Anonymization](#anonymization)"
   ]
  },
  {
   "cell_type": "markdown",
   "id": "c8aab3a5-8ae8-40ca-9b9f-15274e3ca1fa",
   "metadata": {},
   "source": [
    "## Overview <a class='anchor' id='overview'></a>"
   ]
  },
  {
   "cell_type": "markdown",
   "id": "bf66bec1-04ff-4121-97a9-affe3cc6fba4",
   "metadata": {},
   "source": [
    "For the purposes of publishing this project, Personally Identifiable Information (PII) must be anonymized. The original source data will not be published on public platforms, but the code below allows insight into the process utilized for anonymization. After completing this process, the anonymized data will be included with the other dataset files."
   ]
  },
  {
   "cell_type": "markdown",
   "id": "0bd3c1ee-d261-42c4-8e39-9412e3e80f4a",
   "metadata": {},
   "source": [
    "## Data Source <a class='anchor' id='source'></a>"
   ]
  },
  {
   "cell_type": "markdown",
   "id": "897ff3ab-e1b8-4513-8f63-9c81fcedcf47",
   "metadata": {},
   "source": [
    "Two data sources are anonymized using Python for data manipulation:\n",
    "1. The first data source is the business' project site report and contains site IDs, address information, geographical coordinates, and client names for each property that has been photographed.\n",
    "    - This data will be anonymized by using Pandas' .map() function to replace client names with their ID numbers.\n",
    "2. The second data source is the business' client list and contains client ID numbers, names, phone numbers, email addresses, and the dates they signed-up to use the client portal.\n",
    "   - This data will be anonymized using the Faker package to generate fake names, phone numbers, and email addresses."
   ]
  },
  {
   "cell_type": "markdown",
   "id": "0c8253e2-73b3-4285-981b-f29773f7a2dc",
   "metadata": {},
   "source": [
    "## Preliminaries <a class='anchor' id='preliminaries'></a>"
   ]
  },
  {
   "cell_type": "markdown",
   "id": "01c8d07f-3b1e-40d8-8586-32a690526556",
   "metadata": {},
   "source": [
    "Before creating the functions for anonymization and client ID mapping, Python libraries are loaded and the source data is imported."
   ]
  },
  {
   "cell_type": "code",
   "execution_count": 1,
   "id": "84d8184f-54b2-42de-9b7d-f60e0c01715f",
   "metadata": {},
   "outputs": [],
   "source": [
    "# load libraries\n",
    "## *** DATA MANIPULATION ***\n",
    "import numpy as np\n",
    "import pandas as pd\n",
    "## *** DATA ANONYMIZATION ***\n",
    "from faker import Faker"
   ]
  },
  {
   "cell_type": "code",
   "execution_count": 2,
   "id": "7257be60-4219-4a87-ae2b-2e080bdb86cf",
   "metadata": {},
   "outputs": [],
   "source": [
    "# import data from csv files\n",
    "clients = pd.read_csv('clients.csv')\n",
    "project_sites = pd.read_csv('project_sites.csv')"
   ]
  },
  {
   "cell_type": "markdown",
   "id": "c5377e69-a9fc-45c0-8495-f9a83e004e10",
   "metadata": {},
   "source": [
    "## Client ID Mapping <a class='anchor' id='mapping'></a>"
   ]
  },
  {
   "cell_type": "markdown",
   "id": "a1c41018-8635-40d2-bacc-2c89d18bf011",
   "metadata": {},
   "source": [
    "Pandas .map() function is utilized to replace client names with their client ID numbers."
   ]
  },
  {
   "cell_type": "code",
   "execution_count": 3,
   "id": "62960ceb-e664-43aa-8f32-1476652d9568",
   "metadata": {},
   "outputs": [],
   "source": [
    "# create dictionary for mapping\n",
    "client_id_dict = clients[['ID', 'Client Name']].set_index('Client Name')['ID'].to_dict()"
   ]
  },
  {
   "cell_type": "code",
   "execution_count": 4,
   "id": "7e169316-c939-4bc6-9bff-6f14cc6d1ac6",
   "metadata": {},
   "outputs": [],
   "source": [
    "# create function to map client IDs\n",
    "def map_ids(df, str_original_col_name):\n",
    "    df[str_original_col_name] = df[str_original_col_name].map(client_id_dict)"
   ]
  },
  {
   "cell_type": "code",
   "execution_count": 5,
   "id": "d4193847-d6f2-4efa-9dda-bb075c6da880",
   "metadata": {},
   "outputs": [],
   "source": [
    "# apply the mapping function\n",
    "map_ids(project_sites, 'Agent Name')"
   ]
  },
  {
   "cell_type": "code",
   "execution_count": 6,
   "id": "316d9f2f-167a-4e75-90b9-11682797eba6",
   "metadata": {},
   "outputs": [],
   "source": [
    "# change column name\n",
    "project_sites.rename(columns={'Agent Name': 'Client ID'}, inplace=True)"
   ]
  },
  {
   "cell_type": "code",
   "execution_count": 7,
   "id": "52c42202-3d96-408f-b06f-db776516e2c2",
   "metadata": {},
   "outputs": [],
   "source": [
    "# save the mapped data to a new csv file\n",
    "project_sites.to_csv('anonymized_project_sites.csv', index=False)"
   ]
  },
  {
   "cell_type": "markdown",
   "id": "25d91a1f-ea67-4e12-868a-4b03cc66d73d",
   "metadata": {},
   "source": [
    "## Data Anonymization <a class='anchor' id='anonymization'></a>"
   ]
  },
  {
   "cell_type": "markdown",
   "id": "b1085fcf-8585-4e8b-9bba-48f98342821d",
   "metadata": {},
   "source": [
    "Faker is utilized below to generate fake information to replace client's PII."
   ]
  },
  {
   "cell_type": "code",
   "execution_count": 8,
   "id": "4df1871c-494a-4f30-a872-379c24899f5d",
   "metadata": {},
   "outputs": [],
   "source": [
    "# initialize Faker\n",
    "fake = Faker()"
   ]
  },
  {
   "cell_type": "code",
   "execution_count": 9,
   "id": "5bf989ca-86a0-475a-bf4c-31dfff4cff4e",
   "metadata": {},
   "outputs": [],
   "source": [
    "# create function to anonymize PII\n",
    "def anonymize_data(df):\n",
    "    df['Client Name'] = df['Client Name'].apply(lambda x: fake.name())\n",
    "    df['Phone'] = df['Phone'].apply(lambda x: fake.numerify('###-###-####')) # custom phone number format\n",
    "    df['Email'] = df['Email'].apply(lambda x: fake.email())\n",
    "    return df"
   ]
  },
  {
   "cell_type": "code",
   "execution_count": 10,
   "id": "f8f6b428-7981-4138-86d6-67a9a895c6d1",
   "metadata": {},
   "outputs": [],
   "source": [
    "# apply the anonymization function\n",
    "clients_anonymized = anonymize_data(clients)"
   ]
  },
  {
   "cell_type": "code",
   "execution_count": 11,
   "id": "6723f4b7-f741-499d-a27e-b1dcfa28d132",
   "metadata": {},
   "outputs": [],
   "source": [
    "# save the anonymized data to a new csv file\n",
    "clients_anonymized.to_csv('anonymized_clients.csv', index=False)"
   ]
  }
 ],
 "metadata": {
  "kernelspec": {
   "display_name": "Python 3 (ipykernel)",
   "language": "python",
   "name": "python3"
  },
  "language_info": {
   "codemirror_mode": {
    "name": "ipython",
    "version": 3
   },
   "file_extension": ".py",
   "mimetype": "text/x-python",
   "name": "python",
   "nbconvert_exporter": "python",
   "pygments_lexer": "ipython3",
   "version": "3.12.3"
  }
 },
 "nbformat": 4,
 "nbformat_minor": 5
}
